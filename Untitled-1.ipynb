{
    "cells": [
        {
            "cell_type": "code",
            "execution_count": 7,
            "source": [
                "import torch\r\n",
                "import torchvision\r\n",
                "from  torchvision import datasets\r\n",
                "from  torchvision.transforms import ToTensor\r\n",
                "from torch.utils.data import DataLoader\r\n",
                "import matplotlib.pyplot as plt\r\n",
                "\r\n",
                "n_epochs = 3\r\n",
                "batchSizeTrain = 64\r\n",
                "batchSizeTest = 1000\r\n",
                "learningRate = 0.01\r\n",
                "momentum = 0.5\r\n",
                "logInterval = 10\r\n",
                "randomSeed = 1\r\n",
                "torch.manual_seed(randomSeed)\r\n",
                "\r\n",
                "train_data = datasets.MNIST(\r\n",
                "    root=\"data\",\r\n",
                "    train = True,\r\n",
                "    download=True,\r\n",
                "    transform = ToTensor(),\r\n",
                ")\r\n",
                "\r\n",
                "test_data = datasets.MNIST(\r\n",
                "    root=\"data\",\r\n",
                "    train = False,\r\n",
                "    download = True,\r\n",
                "    transform = ToTensor(),\r\n",
                ")\r\n",
                "\r\n",
                "train_loader = DataLoader(train_data,batch_size = 64,shuffle = True)\r\n",
                "test_loader = DataLoader(test_data,batch_size = 1000,shuffle = True)\r\n",
                "\r\n",
                "figure = plt.figure(figsize=(8,8))\r\n",
                "cols , rows = 3 , 3\r\n",
                "for i in range(1,cols * rows + 1):\r\n",
                "    sample_idx = torch.randint(len(train_data),size=(1,)).item()\r\n",
                "    img,lable = train_data[sample_idx]\r\n",
                "    figure.add_subplot(rows,cols,i)\r\n",
                "    plt.axis(\"off\")\r\n",
                "    plt.imshow(img.squeeze(),cmap=\"gray\")\r\n",
                "plt.show()\r\n"
            ],
            "outputs": [
                {
                    "output_type": "display_data",
                    "data": {
                        "text/plain": [
                            "<Figure size 576x576 with 9 Axes>"
                        ],
                        "image/png": "[encoded data removed]"
                    },
                    "metadata": {
                        "needs_background": "light"
                    }
                }
            ],
            "metadata": {}
        },
        {
            "cell_type": "code",
            "execution_count": null,
            "source": [],
            "outputs": [],
            "metadata": {}
        }
    ],
    "metadata": {
        "orig_nbformat": 4,
        "language_info": {
            "name": "python",
            "version": "3.8.5",
            "mimetype": "text/x-python",
            "codemirror_mode": {
                "name": "ipython",
                "version": 3
            },
            "pygments_lexer": "ipython3",
            "nbconvert_exporter": "python",
            "file_extension": ".py"
        },
        "kernelspec": {
            "name": "python3",
            "display_name": "Python 3.8.5 64-bit"
        },
        "interpreter": {
            "hash": "e0158901e0fa39258cd7f4f6fc545e05f8d92f205af5b9ce7f1318b3c4335fae"
        }
    },
    "nbformat": 4,
    "nbformat_minor": 2
}